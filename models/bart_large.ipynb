{
 "cells": [
  {
   "cell_type": "code",
   "execution_count": null,
   "metadata": {},
   "outputs": [],
   "source": [
    "import torch\n",
    "import torch.nn as nn\n",
    "import numpy as np\n",
    "from transformers import BartTokenizer, BartModel\n",
    "from datasets import load_dataset\n",
    "from sklearn.metrics import classification_report\n",
    "\n",
    "\n",
    "# Load the GoEmotions dataset\n",
    "dataset = load_dataset(\"go_emotions\")\n",
    "\n",
    "print(dataset)\n",
    "\n",
    "# Emotion labels\n",
    "candidate_labels = [\n",
    "    \"admiration\", \"amusement\", \"anger\", \"annoyance\", \"approval\", \"caring\",\n",
    "    \"confusion\", \"curiosity\", \"desire\", \"disappointment\", \"disapproval\",\n",
    "    \"disgust\", \"embarrassment\", \"excitement\", \"fear\", \"gratitude\", \"grief\",\n",
    "    \"joy\", \"love\", \"nervousness\", \"optimism\", \"pride\", \"realization\", \"relief\",\n",
    "    \"remorse\", \"sadness\", \"surprise\", \"neutral\"\n",
    "]"
   ]
  },
  {
   "cell_type": "code",
   "execution_count": null,
   "metadata": {},
   "outputs": [],
   "source": [
    "# Load BART base model and tokenizer\n",
    "model_name = \"facebook/bart-large\"\n",
    "tokenizer = BartTokenizer.from_pretrained(model_name)\n",
    "base_model = BartModel.from_pretrained(model_name)\n",
    "\n",
    "# Define BART with a classification head\n",
    "class BartWithClassificationHead(nn.Module):\n",
    "    def __init__(self, base_model, num_labels):\n",
    "        super().__init__()\n",
    "        self.bart = base_model\n",
    "        self.classification_head = nn.Sequential(\n",
    "            nn.Linear(self.bart.config.d_model, num_labels),\n",
    "            nn.Sigmoid()\n",
    "        )\n",
    "    \n",
    "    def forward(self, input_ids, attention_mask):\n",
    "        outputs = self.bart(input_ids=input_ids, attention_mask=attention_mask)\n",
    "        cls_output = outputs.last_hidden_state[:, 0, :]\n",
    "        logits = self.classification_head(cls_output)\n",
    "        return logits\n",
    "\n",
    "# Initialize the model\n",
    "num_labels = 28\n",
    "model = BartWithClassificationHead(base_model, num_labels)"
   ]
  },
  {
   "cell_type": "code",
   "execution_count": null,
   "metadata": {},
   "outputs": [],
   "source": [
    "# Tokenize the test dataset\n",
    "def preprocess_function(examples):\n",
    "    return tokenizer(\n",
    "        examples[\"text\"], \n",
    "        truncation=True, \n",
    "        padding=\"max_length\", \n",
    "        max_length=128,\n",
    "        return_tensors=\"pt\"\n",
    "    )\n",
    "\n",
    "tokenized_test = dataset[\"test\"].map(preprocess_function, batched=True)"
   ]
  },
  {
   "cell_type": "code",
   "execution_count": null,
   "metadata": {},
   "outputs": [],
   "source": [
    "test_texts = tokenized_test[\"text\"]\n",
    "test_inputs = tokenizer(test_texts, truncation=True, padding=True, max_length=128, return_tensors=\"pt\")\n",
    "\n",
    "model.eval()\n",
    "with torch.no_grad():\n",
    "    probs = model(test_inputs[\"input_ids\"], test_inputs[\"attention_mask\"])\n",
    "\n",
    "# Apply threshold to probs\n",
    "threshold = 0.5\n",
    "predictions = (probs > threshold).int()\n",
    "\n",
    "predicted_labels = []\n",
    "for i in range(len(test_texts)):\n",
    "    labels = [candidate_labels[j] for j, pred in enumerate(predictions[i]) if pred == 1]\n",
    "    predicted_labels.append(labels)"
   ]
  },
  {
   "cell_type": "code",
   "execution_count": null,
   "metadata": {},
   "outputs": [],
   "source": [
    "# Convert ground truth to binary format\n",
    "def binarize_labels(example):\n",
    "    binary_labels = np.zeros(num_labels, dtype=int)\n",
    "    for label in example[\"labels\"]:\n",
    "        binary_labels[label] = 1\n",
    "    return binary_labels\n",
    "\n",
    "binary_ground_truth = np.array([binarize_labels(example) for example in dataset[\"test\"]])"
   ]
  },
  {
   "cell_type": "code",
   "execution_count": null,
   "metadata": {},
   "outputs": [],
   "source": [
    "# Generate classification report\n",
    "report = classification_report(binary_ground_truth, predictions.numpy(), target_names=candidate_labels, zero_division=0)\n",
    "print(report)"
   ]
  }
 ],
 "metadata": {
  "kernelspec": {
   "display_name": "NLP",
   "language": "python",
   "name": "python3"
  },
  "language_info": {
   "codemirror_mode": {
    "name": "ipython",
    "version": 3
   },
   "file_extension": ".py",
   "mimetype": "text/x-python",
   "name": "python",
   "nbconvert_exporter": "python",
   "pygments_lexer": "ipython3",
   "version": "3.11.9"
  }
 },
 "nbformat": 4,
 "nbformat_minor": 2
}
