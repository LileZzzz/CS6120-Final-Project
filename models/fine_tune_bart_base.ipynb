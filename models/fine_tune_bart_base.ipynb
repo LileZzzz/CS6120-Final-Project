{
 "cells": [
  {
   "cell_type": "code",
   "execution_count": null,
   "metadata": {
    "colab": {
     "base_uri": "https://localhost:8080/"
    },
    "id": "S_p7horUaJ0F",
    "outputId": "6d1f867f-de65-47e9-a6c7-dcddd588193a"
   },
   "outputs": [],
   "source": [
    "import numpy as np\n",
    "from datasets import load_dataset, Features, Sequence, Value\n",
    "from sklearn.metrics import classification_report, accuracy_score\n",
    "from scipy.special import expit\n",
    "from transformers import BartTokenizer, BartForSequenceClassification, TrainingArguments, Trainer\n",
    "\n",
    "dataset = load_dataset(\"go_emotions\")\n",
    "\n",
    "model_name = \"facebook/bart-base\"\n",
    "tokenizer = BartTokenizer.from_pretrained(model_name)\n",
    "model = BartForSequenceClassification.from_pretrained(\n",
    "    model_name,\n",
    "    num_labels=28,\n",
    "    problem_type=\"multi_label_classification\"\n",
    ")\n",
    "print(dataset)\n",
    "print(model)"
   ]
  },
  {
   "cell_type": "code",
   "execution_count": null,
   "metadata": {
    "id": "3-wDyGvXZyxz"
   },
   "outputs": [],
   "source": [
    "# Tokenize and one-hot encode labels\n",
    "def preprocess_function(examples):\n",
    "    tokenized = tokenizer(\n",
    "        examples[\"text\"], truncation=True, padding=\"max_length\", max_length=50\n",
    "    )\n",
    "\n",
    "    # One-hot encode the labels\n",
    "    num_classes = 28\n",
    "    one_hot_labels = np.zeros((len(examples[\"labels\"]), num_classes), dtype=np.float32)\n",
    "    for i, labels in enumerate(examples[\"labels\"]):\n",
    "        one_hot_labels[i, labels] = 1.0\n",
    "\n",
    "    tokenized[\"labels\"] = one_hot_labels\n",
    "    return tokenized\n",
    "\n",
    "tokenized_dataset = dataset.map(preprocess_function, batched=True)"
   ]
  },
  {
   "cell_type": "code",
   "execution_count": null,
   "metadata": {
    "id": "Cjz_fTpfdtVo"
   },
   "outputs": [],
   "source": [
    "new_features = Features(\n",
    "    {\n",
    "        \"text\": Value(\"string\"),\n",
    "        \"labels\": Sequence(Value(\"float32\")),\n",
    "        \"id\": Value(\"string\"),\n",
    "        \"input_ids\": Sequence(Value(\"int32\")),\n",
    "        \"attention_mask\": Sequence(Value(\"int32\")),\n",
    "    }\n",
    ")\n",
    "\n",
    "# Cast the dataset to the new type\n",
    "tokenized_dataset = tokenized_dataset.cast(new_features)"
   ]
  },
  {
   "cell_type": "code",
   "execution_count": null,
   "metadata": {
    "colab": {
     "base_uri": "https://localhost:8080/"
    },
    "id": "Pf3_JEryZyx0",
    "outputId": "217cc0e0-4325-4842-e64d-6edb0c2b0dde"
   },
   "outputs": [],
   "source": [
    "# Explore the train and validation loss under different batch sizes, learning rates and epochs\n",
    "training_args = TrainingArguments(\n",
    "    output_dir=\"./results\",\n",
    "    evaluation_strategy=\"steps\",\n",
    "    eval_steps=100,\n",
    "    logging_strategy=\"steps\",\n",
    "    logging_steps=100,\n",
    "    learning_rate=5e-5,\n",
    "    per_device_train_batch_size=16,\n",
    "    per_device_eval_batch_size=64,\n",
    "    num_train_epochs=3,\n",
    "    weight_decay=0.01,\n",
    "    logging_dir=\"./logs\",\n",
    "    save_total_limit=2,\n",
    "    fp16=True,\n",
    "    report_to=\"none\",\n",
    ")\n",
    "\n",
    "\n",
    "# Initialize Trainer\n",
    "trainer = Trainer(\n",
    "    model=model,\n",
    "    args=training_args,\n",
    "    train_dataset=tokenized_dataset[\"train\"],\n",
    "    eval_dataset=tokenized_dataset[\"validation\"],\n",
    "    tokenizer=tokenizer,\n",
    ")"
   ]
  },
  {
   "cell_type": "code",
   "execution_count": null,
   "metadata": {
    "colab": {
     "base_uri": "https://localhost:8080/",
     "height": 1000
    },
    "id": "QzP1M9-SZyx0",
    "outputId": "59561aff-c454-406c-811e-4c2e0d773bb1"
   },
   "outputs": [],
   "source": [
    "# Fine-tune the model\n",
    "trainer.train()"
   ]
  },
  {
   "cell_type": "code",
   "execution_count": null,
   "metadata": {
    "colab": {
     "base_uri": "https://localhost:8080/",
     "height": 540
    },
    "id": "yXRKlLkB9rRW",
    "outputId": "10ee7f1a-f661-414d-b8d6-bbb869883f3c"
   },
   "outputs": [],
   "source": [
    "import matplotlib.pyplot as plt\n",
    "\n",
    "log_history = trainer.state.log_history\n",
    "\n",
    "train_losses = []\n",
    "eval_losses = []\n",
    "steps = []\n",
    "\n",
    "for log in log_history:\n",
    "    if \"loss\" in log:\n",
    "        train_losses.append(log[\"loss\"])\n",
    "        steps.append(log[\"step\"])\n",
    "    if \"eval_loss\" in log:\n",
    "        eval_losses.append(log[\"eval_loss\"])\n",
    "\n",
    "# Plot loss curves\n",
    "plt.figure(figsize=(10, 6))\n",
    "plt.plot(steps, train_losses, label=\"Training Loss\", marker=\"o\")\n",
    "if eval_losses:\n",
    "    plt.plot(steps[:len(eval_losses)], eval_losses, label=\"Validation Loss\", marker=\"o\")\n",
    "plt.xlabel(\"Steps\")\n",
    "plt.ylabel(\"Loss\")\n",
    "plt.title(\"Training and Validation Loss\")\n",
    "plt.legend()\n",
    "plt.grid()\n",
    "plt.show()"
   ]
  },
  {
   "cell_type": "code",
   "execution_count": null,
   "metadata": {
    "colab": {
     "base_uri": "https://localhost:8080/",
     "height": 17
    },
    "id": "trBRUsdF9Web",
    "outputId": "9e04f6b3-49cc-4d4a-e067-b39d25a28b80"
   },
   "outputs": [],
   "source": [
    "# Generate a detailed classification report for the test set\n",
    "predictions = trainer.predict(tokenized_dataset[\"test\"])"
   ]
  },
  {
   "cell_type": "code",
   "execution_count": null,
   "metadata": {
    "colab": {
     "base_uri": "https://localhost:8080/"
    },
    "id": "eEiyF7fg_oDi",
    "outputId": "16db5a54-2934-49c0-d610-28e51173008f"
   },
   "outputs": [],
   "source": [
    "# Extract logits and labels\n",
    "logits = predictions.predictions[0]\n",
    "labels = predictions.label_ids\n",
    "\n",
    "# Apply sigmoid to get probabilities\n",
    "probabilities = expit(logits)\n",
    "\n",
    "# Apply threshold to probabilities for multilabel classification\n",
    "threshold = 0.5\n",
    "predicted_labels = (probabilities > threshold).astype(int)\n",
    "\n",
    "# Generate the classification report\n",
    "print(\"Test Set Accuracy:\", accuracy_score(labels, predicted_labels))\n",
    "report = classification_report(labels, predicted_labels, output_dict=False, zero_division=0)\n",
    "print(\"Detailed Classification Report:\\n\", report)"
   ]
  }
 ],
 "metadata": {
  "accelerator": "GPU",
  "colab": {
   "gpuType": "L4",
   "machine_shape": "hm",
   "provenance": []
  },
  "kernelspec": {
   "display_name": "NLP",
   "language": "python",
   "name": "python3"
  },
  "language_info": {
   "codemirror_mode": {
    "name": "ipython",
    "version": 3
   },
   "file_extension": ".py",
   "mimetype": "text/x-python",
   "name": "python",
   "nbconvert_exporter": "python",
   "pygments_lexer": "ipython3",
   "version": "3.11.9"
  }
 },
 "nbformat": 4,
 "nbformat_minor": 0
}
