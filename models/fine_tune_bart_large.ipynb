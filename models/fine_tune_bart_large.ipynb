{
 "cells": [
  {
   "cell_type": "code",
   "execution_count": null,
   "metadata": {
    "colab": {
     "base_uri": "https://localhost:8080/"
    },
    "id": "S_p7horUaJ0F",
    "outputId": "410d2803-d3a5-4871-f5b0-c6454b761b27"
   },
   "outputs": [],
   "source": [
    "import numpy as np\n",
    "import torch\n",
    "from datasets import load_dataset, Features, Sequence, Value\n",
    "from sklearn.metrics import precision_recall_fscore_support\n",
    "from transformers import BartTokenizer, BartForSequenceClassification, TrainingArguments, Trainer\n",
    "\n",
    "dataset = load_dataset(\"go_emotions\")\n",
    "\n",
    "model_name = \"facebook/bart-large\"\n",
    "tokenizer = BartTokenizer.from_pretrained(model_name)\n",
    "model = BartForSequenceClassification.from_pretrained(\n",
    "    model_name,\n",
    "    num_labels=28,\n",
    "    problem_type=\"multi_label_classification\"\n",
    ")\n",
    "print(dataset)\n",
    "print(model)"
   ]
  },
  {
   "cell_type": "code",
   "execution_count": null,
   "metadata": {
    "id": "3-wDyGvXZyxz"
   },
   "outputs": [],
   "source": [
    "# Tokenize and one-hot encode labels\n",
    "def preprocess_function(examples):\n",
    "    tokenized = tokenizer(\n",
    "        examples[\"text\"], truncation=True, padding=\"max_length\", max_length=128\n",
    "    )\n",
    "\n",
    "    # One-hot encode the labels\n",
    "    num_classes = 28\n",
    "    one_hot_labels = np.zeros((len(examples[\"labels\"]), num_classes), dtype=np.float32)\n",
    "    for i, labels in enumerate(examples[\"labels\"]):\n",
    "        one_hot_labels[i, labels] = 1.0\n",
    "\n",
    "    tokenized[\"labels\"] = one_hot_labels\n",
    "    return tokenized\n",
    "\n",
    "tokenized_dataset = dataset.map(preprocess_function, batched=True)"
   ]
  },
  {
   "cell_type": "code",
   "execution_count": null,
   "metadata": {
    "colab": {
     "base_uri": "https://localhost:8080/"
    },
    "id": "Cjz_fTpfdtVo",
    "outputId": "d2a4f161-d654-4d44-b21a-48c3b4aa1fe1"
   },
   "outputs": [],
   "source": [
    "new_features = Features(\n",
    "    {\n",
    "        \"text\": Value(\"string\"),\n",
    "        \"labels\": Sequence(Value(\"float32\")),\n",
    "        \"id\": Value(\"string\"),\n",
    "        \"input_ids\": Sequence(Value(\"int32\")),\n",
    "        \"attention_mask\": Sequence(Value(\"int32\")),\n",
    "    }\n",
    ")\n",
    "\n",
    "# Cast the dataset to the new type\n",
    "tokenized_dataset = tokenized_dataset.cast(new_features)"
   ]
  },
  {
   "cell_type": "code",
   "execution_count": null,
   "metadata": {
    "colab": {
     "base_uri": "https://localhost:8080/"
    },
    "id": "Pf3_JEryZyx0",
    "outputId": "899eed11-a5d6-410e-8a3f-476c8e4c16ff"
   },
   "outputs": [],
   "source": [
    "training_args = TrainingArguments(\n",
    "    output_dir=\"./results\",\n",
    "    evaluation_strategy=\"epoch\",\n",
    "    learning_rate=2e-5,\n",
    "    per_device_train_batch_size=16,\n",
    "    per_device_eval_batch_size=16,\n",
    "    num_train_epochs=3,\n",
    "    weight_decay=0.01,\n",
    "    logging_dir=\"./logs\",\n",
    "    save_total_limit=2,\n",
    "    fp16=False,\n",
    "    report_to=\"none\"\n",
    ")\n",
    "\n",
    "def compute_metrics(eval_pred):\n",
    "    logits, labels = eval_pred\n",
    "    predictions = (logits > 0.5).astype(int)\n",
    "    precision, recall, f1, _ = precision_recall_fscore_support(\n",
    "        labels, predictions, average=\"micro\"\n",
    "    )\n",
    "    return {\"precision\": precision, \"recall\": recall, \"f1\": f1}\n",
    "\n",
    "# Initialize Trainer\n",
    "trainer = Trainer(\n",
    "    model=model,\n",
    "    args=training_args,\n",
    "    train_dataset=tokenized_dataset[\"train\"].select(range(100)),\n",
    "    eval_dataset=tokenized_dataset[\"validation\"].select(range(100)),\n",
    "    tokenizer=tokenizer,\n",
    ")"
   ]
  },
  {
   "cell_type": "code",
   "execution_count": null,
   "metadata": {
    "colab": {
     "base_uri": "https://localhost:8080/",
     "height": 347
    },
    "id": "QzP1M9-SZyx0",
    "outputId": "5bba23f9-c3ca-4577-be04-f041f31fb149"
   },
   "outputs": [],
   "source": [
    "# Fine-tune the model\n",
    "trainer.train()"
   ]
  },
  {
   "cell_type": "code",
   "execution_count": null,
   "metadata": {
    "id": "uUgGr-HZZyx0"
   },
   "outputs": [],
   "source": [
    "# Evaluate the model on the test set\n",
    "results = trainer.evaluate(tokenized_dataset[\"test\"])\n",
    "print(\"Test Results:\", results)\n",
    "\n",
    "# Save the fine-tuned model\n",
    "trainer.save_model(\"./fine_tuned_bart\")\n",
    "tokenizer.save_pretrained(\"./fine_tuned_bart\")"
   ]
  }
 ],
 "metadata": {
  "accelerator": "GPU",
  "colab": {
   "gpuType": "L4",
   "machine_shape": "hm",
   "provenance": []
  },
  "kernelspec": {
   "display_name": "NLP",
   "language": "python",
   "name": "python3"
  },
  "language_info": {
   "codemirror_mode": {
    "name": "ipython",
    "version": 3
   },
   "file_extension": ".py",
   "mimetype": "text/x-python",
   "name": "python",
   "nbconvert_exporter": "python",
   "pygments_lexer": "ipython3",
   "version": "3.11.9"
  }
 },
 "nbformat": 4,
 "nbformat_minor": 0
}
